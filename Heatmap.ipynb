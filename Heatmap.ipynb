{
 "cells": [
  {
   "cell_type": "code",
   "execution_count": null,
   "id": "authentic-sacramento",
   "metadata": {},
   "outputs": [],
   "source": [
    "import pandas as pd\n",
    "import numpy as np\n",
    "import plotly.graph_objects as go\n",
    "import plotly.offline as pyo"
   ]
  },
  {
   "cell_type": "code",
   "execution_count": null,
   "id": "unavailable-administrator",
   "metadata": {},
   "outputs": [],
   "source": [
    "df = pd.read_csv('city_temperature.csv')"
   ]
  },
  {
   "cell_type": "code",
   "execution_count": null,
   "id": "tough-signature",
   "metadata": {},
   "outputs": [],
   "source": [
    "def get_scatter(df, city):\n",
    "    \n",
    "    row = df[df['City'] == city]\n",
    "    \n",
    "    avg = df.groupby('Month').mean().reset_index()\n",
    "    \n",
    "    trace0 = go.Scatter(x=row['Month'], \n",
    "                        y=row['AvgTemperature'], \n",
    "                        name=city, \n",
    "                        marker=dict(color='#f3d576'))\n",
    "    \n",
    "    trace1 = go.Scatter(x=avg['Month'], \n",
    "                        y=avg['AvgTemperature'], \n",
    "                        name='Average Temperature', \n",
    "                        marker=dict(color='#d1d1cf'))\n",
    "    \n",
    "    layout = go.Layout(xaxis=dict(showline=True, \n",
    "                                  linecolor='white',\n",
    "                                  showgrid=False, \n",
    "                                  tickmode = 'array',\n",
    "                                  tickvals = [i for i in range(1,13)],\n",
    "                                  ticktext = ['Jan', 'Feb', 'Mar', 'Apr', 'May', 'Jun', \n",
    "                                              'Jul', 'Aug', 'Sep', 'Oct', 'Nov', 'Dec']), \n",
    "                       yaxis=dict(showline=True, \n",
    "                                  linecolor='white',\n",
    "                                  showgrid=False))\n",
    "                       \n",
    "    \n",
    "    data = [trace0, trace1]\n",
    "    \n",
    "    fig = go.Figure(data=data, layout=layout)\n",
    "    \n",
    "    fig.update_yaxes(ticksuffix=\"°C\")\n",
    "    \n",
    "    fig.update_layout(\n",
    "    paper_bgcolor='rgba(0,0,0,0),\n",
    "    plot_bgcolor='rgba(0,0,0,0),\n",
    "    font=dict(\n",
    "        family=\"Open sans\",\n",
    "        size=12,\n",
    "        color=\"White\"\n",
    "    ))\n",
    "    \n",
    "    \n",
    "    return fig"
   ]
  },
  {
   "cell_type": "code",
   "execution_count": null,
   "id": "significant-brick",
   "metadata": {},
   "outputs": [],
   "source": [
    "get_scatter(df, 'Lisbon')"
   ]
  },
  {
   "cell_type": "code",
   "execution_count": null,
   "id": "electoral-virgin",
   "metadata": {},
   "outputs": [],
   "source": [
    "pyo.plot(get_scatter(df, 'Lisbon'))"
   ]
  }
 ],
 "metadata": {
  "kernelspec": {
   "display_name": "data_viz",
   "language": "python",
   "name": "data_viz"
  },
  "language_info": {
   "codemirror_mode": {
    "name": "ipython",
    "version": 3
   },
   "file_extension": ".py",
   "mimetype": "text/x-python",
   "name": "python",
   "nbconvert_exporter": "python",
   "pygments_lexer": "ipython3",
   "version": "3.9.1"
  }
 },
 "nbformat": 4,
 "nbformat_minor": 5
}
