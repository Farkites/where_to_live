{
 "cells": [
  {
   "cell_type": "code",
   "execution_count": null,
   "id": "frank-revelation",
   "metadata": {},
   "outputs": [],
   "source": [
    "import os\n",
    "import pandas as pd\n",
    "import pickle\n",
    "\n",
    "%config Completer.use_jedi = False\n",
    "\n",
    "joinpath = os.path.join"
   ]
  },
  {
   "cell_type": "code",
   "execution_count": null,
   "id": "architectural-external",
   "metadata": {},
   "outputs": [],
   "source": [
    "rawdatainfo = pd.read_csv('datamanager/overview_rawdata.csv', sep=';')\n",
    "rawdatainfo"
   ]
  },
  {
   "cell_type": "code",
   "execution_count": null,
   "id": "honey-combine",
   "metadata": {},
   "outputs": [],
   "source": [
    "file = '../DataVisDreamDest/data/computed_data/unloc.pickle'\n",
    "with open(file, 'rb') as f:\n",
    "    unloc = pickle.load(f)\n",
    "unloc.ccode.isna().sum()"
   ]
  },
  {
   "cell_type": "code",
   "execution_count": null,
   "id": "contained-revolution",
   "metadata": {},
   "outputs": [],
   "source": [
    "raw_data_path = 'data/01_raw_data/'\n",
    "\n",
    "!ls {raw_data_path}"
   ]
  },
  {
   "cell_type": "code",
   "execution_count": null,
   "id": "living-quest",
   "metadata": {},
   "outputs": [],
   "source": [
    "!head {os.path.join(raw_data_path,'Index.csv ') }"
   ]
  },
  {
   "cell_type": "code",
   "execution_count": null,
   "id": "piano-honduras",
   "metadata": {},
   "outputs": [],
   "source": [
    "for file in os.listdir(raw_data_path): \n",
    "    print('\\n', file)\n",
    "    !head {os.path.join(raw_data_path, file) }"
   ]
  },
  {
   "cell_type": "code",
   "execution_count": null,
   "id": "every-wyoming",
   "metadata": {},
   "outputs": [],
   "source": [
    "rawdatainfo = pd.read_csv(joinpath('datamanager/overview_rawdata.csv'))"
   ]
  },
  {
   "cell_type": "code",
   "execution_count": null,
   "id": "useful-mumbai",
   "metadata": {},
   "outputs": [],
   "source": [
    "citytemp = pd.read_csv"
   ]
  },
  {
   "cell_type": "code",
   "execution_count": null,
   "id": "numeric-ferry",
   "metadata": {},
   "outputs": [],
   "source": [
    "from datamanager import processing\n",
    "cleaner = getattr(processing, f'clean_{citytemp}')\n",
    "\n",
    "cleaner()"
   ]
  },
  {
   "cell_type": "code",
   "execution_count": null,
   "id": "attractive-dividend",
   "metadata": {},
   "outputs": [],
   "source": [
    "rawdatainfo"
   ]
  },
  {
   "cell_type": "code",
   "execution_count": null,
   "id": "possible-picture",
   "metadata": {},
   "outputs": [],
   "source": []
  },
  {
   "cell_type": "code",
   "execution_count": null,
   "id": "fixed-guinea",
   "metadata": {},
   "outputs": [],
   "source": [
    "numdata = pd.DataFrame(columns=['location_name', 'location_type'])\n",
    "\n",
    "\n",
    "for idx, row in rawdatainfo.iterrows():\n",
    "    print(f'Processing file {filename}')\n",
    "\n",
    "    \n",
    "    #\n",
    "    cleaner = getattr(processing, f'clean_{row.dataset}')\n",
    "    \n",
    "    # read file\n",
    "    file_raw = pd.read_csv()\n",
    "    \n",
    "    # apply cleaning\n",
    "    file = cleaner(file_raw)\n",
    "    \n",
    "    # join \n",
    "    numdata.merge(how='outer')\n",
    "    print(idx, row)\n",
    "    #print(datafile.name[idx])"
   ]
  },
  {
   "cell_type": "code",
   "execution_count": null,
   "id": "through-delhi",
   "metadata": {},
   "outputs": [],
   "source": []
  }
 ],
 "metadata": {
  "kernelspec": {
   "display_name": "Python 3",
   "language": "python",
   "name": "python3"
  },
  "language_info": {
   "codemirror_mode": {
    "name": "ipython",
    "version": 3
   },
   "file_extension": ".py",
   "mimetype": "text/x-python",
   "name": "python",
   "nbconvert_exporter": "python",
   "pygments_lexer": "ipython3",
   "version": "3.6.3"
  }
 },
 "nbformat": 4,
 "nbformat_minor": 5
}
