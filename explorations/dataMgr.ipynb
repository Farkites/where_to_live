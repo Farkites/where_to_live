{
 "cells": [
  {
   "cell_type": "code",
   "execution_count": null,
   "id": "turkish-police",
   "metadata": {},
   "outputs": [],
   "source": [
    "import os\n",
    "import pandas as pd\n",
    "import pickle\n",
    "\n",
    "%config Completer.use_jedi = False\n",
    "\n",
    "joinpath = os.path.join"
   ]
  },
  {
   "cell_type": "code",
   "execution_count": null,
   "id": "practical-government",
   "metadata": {},
   "outputs": [],
   "source": [
    "rawdatainfo = pd.read_csv('datamanager/overview_rawdata.csv', sep=';')\n",
    "rawdatainfo"
   ]
  },
  {
   "cell_type": "code",
   "execution_count": null,
   "id": "protected-springer",
   "metadata": {},
   "outputs": [],
   "source": [
    "file = '../DataVisDreamDest/data/computed_data/unloc.pickle'\n",
    "with open(file, 'rb') as f:\n",
    "    unloc = pickle.load(f)\n",
    "unloc.ccode.isna().sum()"
   ]
  },
  {
   "cell_type": "code",
   "execution_count": null,
   "id": "nuclear-healing",
   "metadata": {},
   "outputs": [],
   "source": [
    "unloc.groupby('loccode').ccode.nunique()"
   ]
  },
  {
   "cell_type": "code",
   "execution_count": null,
   "id": "governing-slovenia",
   "metadata": {},
   "outputs": [],
   "source": [
    "unloc[unloc.loccode == 'ZZZ']\n",
    "unloc.insert(2, 'citycode', unloc.ccode + unloc.loccode)\n",
    "#unloc['citycode'] = unloc.ccode + unloc.loccode\n",
    "unloc"
   ]
  },
  {
   "cell_type": "code",
   "execution_count": null,
   "id": "focal-aspect",
   "metadata": {},
   "outputs": [],
   "source": [
    "raw_data_path = 'data/01_raw_data/'\n",
    "\n",
    "!ls {raw_data_path}"
   ]
  },
  {
   "cell_type": "code",
   "execution_count": null,
   "id": "super-score",
   "metadata": {},
   "outputs": [],
   "source": [
    "!head {os.path.join(raw_data_path,'Index.csv ') }"
   ]
  },
  {
   "cell_type": "code",
   "execution_count": null,
   "id": "interior-allah",
   "metadata": {},
   "outputs": [],
   "source": [
    "for file in os.listdir(raw_data_path): \n",
    "    print('\\n', file)\n",
    "    !head {os.path.join(raw_data_path, file) }"
   ]
  },
  {
   "cell_type": "code",
   "execution_count": null,
   "id": "happy-subscription",
   "metadata": {},
   "outputs": [],
   "source": [
    "rawdatainfo = pd.read_csv(joinpath('datamanager/overview_rawdata.csv'))"
   ]
  },
  {
   "cell_type": "code",
   "execution_count": null,
   "id": "helpful-stuff",
   "metadata": {},
   "outputs": [],
   "source": [
    "citytemp = pd.read_csv"
   ]
  },
  {
   "cell_type": "code",
   "execution_count": null,
   "id": "fifty-discovery",
   "metadata": {},
   "outputs": [],
   "source": [
    "from datamanager import processing\n",
    "cleaner = getattr(processing, f'clean_{citytemp}')\n",
    "\n",
    "cleaner()"
   ]
  },
  {
   "cell_type": "code",
   "execution_count": null,
   "id": "alive-locking",
   "metadata": {},
   "outputs": [],
   "source": [
    "rawdatainfo"
   ]
  },
  {
   "cell_type": "code",
   "execution_count": null,
   "id": "global-coupon",
   "metadata": {},
   "outputs": [],
   "source": []
  },
  {
   "cell_type": "code",
   "execution_count": null,
   "id": "recent-hormone",
   "metadata": {},
   "outputs": [],
   "source": [
    "numdata = pd.DataFrame(columns=['location_name', 'location_type'])\n",
    "\n",
    "\n",
    "for idx, row in rawdatainfo.iterrows():\n",
    "    print(f'Processing file {filename}')\n",
    "\n",
    "    \n",
    "    #\n",
    "    cleaner = getattr(processing, f'clean_{row.dataset}')\n",
    "    \n",
    "    # read file\n",
    "    file_raw = pd.read_csv()\n",
    "    \n",
    "    # apply cleaning\n",
    "    file = cleaner(file_raw)\n",
    "    \n",
    "    # join \n",
    "    numdata.merge(how='outer')\n",
    "    print(idx, row)\n",
    "    #print(datafile.name[idx])"
   ]
  },
  {
   "cell_type": "code",
   "execution_count": null,
   "id": "victorian-passport",
   "metadata": {},
   "outputs": [],
   "source": []
  }
 ],
 "metadata": {
  "kernelspec": {
   "display_name": "Python 3",
   "language": "python",
   "name": "python3"
  },
  "language_info": {
   "codemirror_mode": {
    "name": "ipython",
    "version": 3
   },
   "file_extension": ".py",
   "mimetype": "text/x-python",
   "name": "python",
   "nbconvert_exporter": "python",
   "pygments_lexer": "ipython3",
   "version": "3.6.3"
  }
 },
 "nbformat": 4,
 "nbformat_minor": 5
}
