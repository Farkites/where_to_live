{
 "cells": [
  {
   "cell_type": "code",
   "execution_count": null,
   "id": "international-vietnamese",
   "metadata": {},
   "outputs": [],
   "source": [
    "import os\n",
    "import pandas as pd\n",
    "import pickle\n",
    "\n",
    "\n",
    "%config Completer.use_jedi = False\n",
    "\n",
    "joinpath = os.path.join\n",
    "\n",
    "os.getcwd()"
   ]
  },
  {
   "cell_type": "code",
   "execution_count": null,
   "id": "absent-crisis",
   "metadata": {},
   "outputs": [],
   "source": [
    "rawdatainfo = pd.read_csv('datamanager/overview_rawdata.csv', sep=';')\n",
    "rawdatainfo"
   ]
  },
  {
   "cell_type": "code",
   "execution_count": null,
   "id": "young-service",
   "metadata": {},
   "outputs": [],
   "source": [
    "file = 'data/computed_data/city_codes.pickle'\n",
    "with open(file, 'rb') as f:\n",
    "    city_codes = pickle.load(f)\n",
    "print(city_codes.isna().sum())\n",
    "\n",
    "city_codes"
   ]
  },
  {
   "cell_type": "code",
   "execution_count": null,
   "id": "electoral-mason",
   "metadata": {},
   "outputs": [],
   "source": [
    "raw_data_path = 'data/raw_data/'\n",
    "dimensions_path = os.path.join(raw_data_path, 'dimensions')\n",
    "\n",
    "!ls {raw_data_path}"
   ]
  },
  {
   "cell_type": "code",
   "execution_count": null,
   "id": "statistical-madness",
   "metadata": {},
   "outputs": [],
   "source": [
    "!head {os.path.join(dimensions_path,'Index.csv ') }"
   ]
  },
  {
   "cell_type": "code",
   "execution_count": null,
   "id": "sixth-pressure",
   "metadata": {},
   "outputs": [],
   "source": [
    "for file in os.listdir(dimensions_path): \n",
    "    print('\\n', file)\n",
    "    !head {os.path.join(dimensions_path, file) }"
   ]
  },
  {
   "cell_type": "code",
   "execution_count": null,
   "id": "known-browser",
   "metadata": {},
   "outputs": [],
   "source": [
    "rawdatainfo = pd.read_csv(joinpath('datamanager/overview_rawdata.csv'))"
   ]
  },
  {
   "cell_type": "code",
   "execution_count": null,
   "id": "flying-quick",
   "metadata": {},
   "outputs": [],
   "source": [
    "citytemp = pd.read_csv('data/raw_data/dimensions/city_temperature_2020.csv')\n",
    "citytemp.rename(columns={'City': 'city'}, inplace=True)\n",
    "res = citytemp.merge(city_codes, how='left', on='city')\n",
    "\n",
    "#if res.citycode.isna().sum() != 0: \n",
    "res[res.city_code.isna()].city.unique()\n",
    "\n",
    "city_codes[city_codes.city.str.contains('Berlin')]"
   ]
  },
  {
   "cell_type": "code",
   "execution_count": null,
   "id": "sustained-blind",
   "metadata": {},
   "outputs": [],
   "source": [
    "country_path = 'data/computed_data/country_codes.pickle'\n",
    "with open(country_path, 'rb') as f: \n",
    "    country = pickle.load(f)\n",
    "print(country.isna().sum())\n",
    "country\n",
    "\n"
   ]
  },
  {
   "cell_type": "code",
   "execution_count": null,
   "id": "modified-bahamas",
   "metadata": {},
   "outputs": [],
   "source": [
    "\n",
    "\n",
    "\n",
    "#cities from pickle\n",
    "\n",
    "cities_path = 'data/computed_data/city_codes.pickle'\n",
    "with open(cities_path, 'rb') as f: \n",
    "    cities = pickle.load(f)\n",
    "print(cities.isna().sum())\n",
    "cities\n"
   ]
  },
  {
   "cell_type": "code",
   "execution_count": null,
   "id": "threatened-collect",
   "metadata": {},
   "outputs": [],
   "source": []
  },
  {
   "cell_type": "code",
   "execution_count": null,
   "id": "expanded-journey",
   "metadata": {},
   "outputs": [],
   "source": [
    "city_codes[city_codes.city.str.contains('Cairo', case=False)]"
   ]
  },
  {
   "cell_type": "code",
   "execution_count": null,
   "id": "applied-island",
   "metadata": {},
   "outputs": [],
   "source": []
  },
  {
   "cell_type": "code",
   "execution_count": null,
   "id": "impressive-ranking",
   "metadata": {},
   "outputs": [],
   "source": [
    "cities.cc_code.str.endswith('-X').sum()"
   ]
  },
  {
   "cell_type": "code",
   "execution_count": null,
   "id": "acting-delta",
   "metadata": {},
   "outputs": [],
   "source": [
    "cities[cities.city_code.isna()].sort_values('population', ascending=False).head(20)"
   ]
  },
  {
   "cell_type": "code",
   "execution_count": null,
   "id": "liable-royalty",
   "metadata": {},
   "outputs": [],
   "source": [
    "#cities[cities.city_code.str.contains('CN-WEI', case=False)]\n",
    "cities[cities.cc_code == 'GB-STK']"
   ]
  },
  {
   "cell_type": "code",
   "execution_count": null,
   "id": "retained-inquiry",
   "metadata": {},
   "outputs": [],
   "source": [
    "cities.sort_values('population', ascending=False).head(30)"
   ]
  },
  {
   "cell_type": "code",
   "execution_count": null,
   "id": "regulation-latter",
   "metadata": {},
   "outputs": [],
   "source": [
    "from datamanager import processing\n",
    "\n",
    "numdata = pd.DataFrame(columns=['location_name', 'location_type'])\n",
    "\n",
    "\n",
    "for idx, row in rawdatainfo.iterrows():\n",
    "    print(f'Processing file {filename}')\n",
    "\n",
    "    \n",
    "    #\n",
    "    cleaner = globals()[f'clean_{row.dataset}']\n",
    "\n",
    "    \n",
    "    # read file\n",
    "    file_raw = pd.read_csv()\n",
    "    \n",
    "    # apply cleaning\n",
    "    file = cleaner(file_raw)\n",
    "    \n",
    "    # join \n",
    "    numdata.merge(how='outer')\n",
    "    print(idx, row)\n",
    "    #print(datafile.name[idx])"
   ]
  },
  {
   "cell_type": "code",
   "execution_count": null,
   "id": "becoming-lucas",
   "metadata": {},
   "outputs": [],
   "source": []
  }
 ],
 "metadata": {
  "kernelspec": {
   "display_name": "Python 3",
   "language": "python",
   "name": "python3"
  },
  "language_info": {
   "codemirror_mode": {
    "name": "ipython",
    "version": 3
   },
   "file_extension": ".py",
   "mimetype": "text/x-python",
   "name": "python",
   "nbconvert_exporter": "python",
   "pygments_lexer": "ipython3",
   "version": "3.6.3"
  }
 },
 "nbformat": 4,
 "nbformat_minor": 5
}
